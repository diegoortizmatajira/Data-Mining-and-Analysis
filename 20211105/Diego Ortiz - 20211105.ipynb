{
 "cells": [
  {
   "cell_type": "markdown",
   "id": "b3edacfd-cbe9-4fa8-822b-e65d838dbfb9",
   "metadata": {},
   "source": [
    "# In-class_Assignment-2 \n",
    "Please answer the questions as in the attached document and submit the answer. Please note, you have to submit jupyter notebook file for answering the question using python. Good luck"
   ]
  },
  {
   "cell_type": "code",
   "execution_count": 13,
   "id": "c0af8862-f8ef-4f9e-aac1-72a0f05b8a04",
   "metadata": {},
   "outputs": [],
   "source": [
    "data = [28,43,58,49,45,55,60,49,51]"
   ]
  },
  {
   "cell_type": "code",
   "execution_count": 26,
   "id": "01a74f55-c7ee-4965-99cc-77da8ca272a0",
   "metadata": {},
   "outputs": [
    {
     "name": "stdout",
     "output_type": "stream",
     "text": [
      "The length of data is 9\n"
     ]
    }
   ],
   "source": [
    "N = len(data)\n",
    "print(f'The length of data is {N}')"
   ]
  },
  {
   "cell_type": "markdown",
   "id": "1e15b567-ee6c-48f3-a7b3-634c19db8304",
   "metadata": {},
   "source": [
    "## a) Compute:\n",
    "\n",
    "### Range"
   ]
  },
  {
   "cell_type": "code",
   "execution_count": 68,
   "id": "674a63da-7436-4656-8252-d7ccb1a5938a",
   "metadata": {},
   "outputs": [
    {
     "name": "stdout",
     "output_type": "stream",
     "text": [
      "The range is 32\n"
     ]
    }
   ],
   "source": [
    "range = round(max(data) - min(data),2)\n",
    "print(f'The range is {range}')"
   ]
  },
  {
   "cell_type": "markdown",
   "id": "04b775cd-a810-4490-a8f3-4f6b50532f69",
   "metadata": {},
   "source": [
    "### Interquartile Range"
   ]
  },
  {
   "cell_type": "code",
   "execution_count": 69,
   "id": "4c88c769-d3d5-41eb-9a3a-ba5118f36aa5",
   "metadata": {},
   "outputs": [
    {
     "name": "stdout",
     "output_type": "stream",
     "text": [
      "The sorted data is: [28, 43, 45, 49, 49, 51, 55, 58, 60]\n"
     ]
    }
   ],
   "source": [
    "sorted_data = sorted(data)\n",
    "print(f'The sorted data is: {sorted_data}')\n",
    "\n",
    "def Q(p):\n",
    "    qpos = (N+1) * p\n",
    "    print(f'qpos = {qpos}')\n",
    "    if int(qpos) == qpos:\n",
    "        return sorted_data[int(qpos)-1]\n",
    "    return round((sorted_data[int(qpos)-1] + sorted_data[int(qpos)]) / 2, 2)"
   ]
  },
  {
   "cell_type": "code",
   "execution_count": 70,
   "id": "b15a10ec-27d5-42d5-95ff-afec8e4997cc",
   "metadata": {},
   "outputs": [
    {
     "name": "stdout",
     "output_type": "stream",
     "text": [
      "qpos = 2.5\n",
      "qpos = 7.5\n",
      "The first quartile is 44.0\n",
      "The third quartile is 56.5\n",
      "The IQR is 12.5\n"
     ]
    }
   ],
   "source": [
    "Q1 = Q(0.25)\n",
    "Q3 = Q(0.75)\n",
    "print(f'The first quartile is {Q1}')\n",
    "print(f'The third quartile is {Q3}')\n",
    "IQR = Q3 - Q1\n",
    "print(f'The IQR is {IQR}')"
   ]
  },
  {
   "cell_type": "markdown",
   "id": "2404733e-796f-4280-944a-8473d32264db",
   "metadata": {},
   "source": [
    "### Median"
   ]
  },
  {
   "cell_type": "code",
   "execution_count": 71,
   "id": "fae8c77c-b576-4a74-a34c-a4c0c2f94ff2",
   "metadata": {},
   "outputs": [
    {
     "name": "stdout",
     "output_type": "stream",
     "text": [
      "qpos = 5.0\n",
      "The median is: 49\n"
     ]
    }
   ],
   "source": [
    "Median = Q(0.5)\n",
    "print(f'The median is: {Median}')"
   ]
  },
  {
   "cell_type": "markdown",
   "id": "b431e330-2c84-4824-b9a7-f0f7d8ffec92",
   "metadata": {},
   "source": [
    "### Mode"
   ]
  },
  {
   "cell_type": "code",
   "execution_count": 72,
   "id": "e8794971-9000-45f4-9738-61a31b2711bf",
   "metadata": {},
   "outputs": [
    {
     "name": "stdout",
     "output_type": "stream",
     "text": [
      "The Mode is 49\n"
     ]
    }
   ],
   "source": [
    "import statistics\n",
    "Mode = statistics.mode(data)\n",
    "print(f'The Mode is {Mode}')"
   ]
  },
  {
   "cell_type": "markdown",
   "id": "d169ecf0-279b-4574-8531-38a8c865d577",
   "metadata": {},
   "source": [
    "### First Quartile"
   ]
  },
  {
   "cell_type": "code",
   "execution_count": 73,
   "id": "d007b39d-7835-42b7-8ed8-5b4d51d3a3cc",
   "metadata": {},
   "outputs": [
    {
     "name": "stdout",
     "output_type": "stream",
     "text": [
      "The first quartile is 44.0\n"
     ]
    }
   ],
   "source": [
    "print(f'The first quartile is {Q1}')"
   ]
  },
  {
   "cell_type": "markdown",
   "id": "513a7eeb-d255-4f64-9f59-a85375711cc6",
   "metadata": {},
   "source": [
    "### Third Quartile"
   ]
  },
  {
   "cell_type": "code",
   "execution_count": 74,
   "id": "8f50fa32-5777-4b3a-9322-c78526d243fd",
   "metadata": {},
   "outputs": [
    {
     "name": "stdout",
     "output_type": "stream",
     "text": [
      "The third quartile is 56.5\n"
     ]
    }
   ],
   "source": [
    "print(f'The third quartile is {Q3}')"
   ]
  },
  {
   "cell_type": "markdown",
   "id": "0395dacc-d902-4367-9377-112d268cc747",
   "metadata": {},
   "source": [
    "## b) Compute the sample variance and sample standard deviation (Round your answers to two decimal places)"
   ]
  },
  {
   "cell_type": "markdown",
   "id": "4fa42e92-9765-4181-9342-2ff32ae4adcf",
   "metadata": {},
   "source": [
    "### Mean"
   ]
  },
  {
   "cell_type": "code",
   "execution_count": 75,
   "id": "ccc5d6c1-f09f-4120-98c8-13b971e93e07",
   "metadata": {},
   "outputs": [
    {
     "name": "stdout",
     "output_type": "stream",
     "text": [
      "The mean is 48.67\n"
     ]
    }
   ],
   "source": [
    "Mean = round(sum(data)/N, 2)\n",
    "print(f'The mean is {Mean}')"
   ]
  },
  {
   "cell_type": "markdown",
   "id": "32568091-6405-480d-9292-54b813342c50",
   "metadata": {},
   "source": [
    "### Sample variance"
   ]
  },
  {
   "cell_type": "code",
   "execution_count": 76,
   "id": "7c4b3fbe-18c4-4337-baad-bfa58fd06b27",
   "metadata": {},
   "outputs": [
    {
     "name": "stdout",
     "output_type": "stream",
     "text": [
      "The variance is 81.56\n"
     ]
    }
   ],
   "source": [
    "Variance = round(sum([(x - Mean)**2 for x in data]) / N, 2)\n",
    "print(f'The variance is {Variance}')"
   ]
  },
  {
   "cell_type": "markdown",
   "id": "21638c77-a0ea-4bed-992b-8eb239479e15",
   "metadata": {},
   "source": [
    "### Sample standard deviation"
   ]
  },
  {
   "cell_type": "code",
   "execution_count": 77,
   "id": "67fdc128-883a-4a92-8dfd-70eb5bbe6517",
   "metadata": {},
   "outputs": [
    {
     "name": "stdout",
     "output_type": "stream",
     "text": [
      "The standard deviation is 9.03\n"
     ]
    }
   ],
   "source": [
    "import math\n",
    "StandardDeviation = round(math.sqrt(Variance), 2)\n",
    "print(f'The standard deviation is {StandardDeviation}')"
   ]
  },
  {
   "cell_type": "markdown",
   "id": "062a39c2-dc5e-4043-9cb6-9af4d18e3a35",
   "metadata": {},
   "source": [
    "## c) A sample of air quality index readings for Anaheim provided a sample mean of 48.5, a sample variance of 136, and a sample standard deviation of 11.66. \n",
    "What comparisons can you make between the air quality in Pomona and that in Anaheim on the basis of these descriptive statistics?"
   ]
  },
  {
   "cell_type": "markdown",
   "id": "27e054e4-e8b6-4b7b-a856-6e8ca84c65ba",
   "metadata": {},
   "source": [
    "The average air quality in Anaheim is **Slighly lower (48.5 vs 48.67) than** the average air quality in Pomona."
   ]
  },
  {
   "cell_type": "markdown",
   "id": "ee16a125-507f-4ab2-8f57-3c2658b47acc",
   "metadata": {},
   "source": [
    "The variability is greater in **Anaheim (11.66 vs 9.03)**"
   ]
  }
 ],
 "metadata": {
  "kernelspec": {
   "display_name": "Python 3",
   "language": "python",
   "name": "python3"
  },
  "language_info": {
   "codemirror_mode": {
    "name": "ipython",
    "version": 3
   },
   "file_extension": ".py",
   "mimetype": "text/x-python",
   "name": "python",
   "nbconvert_exporter": "python",
   "pygments_lexer": "ipython3",
   "version": "3.8.10"
  }
 },
 "nbformat": 4,
 "nbformat_minor": 5
}
