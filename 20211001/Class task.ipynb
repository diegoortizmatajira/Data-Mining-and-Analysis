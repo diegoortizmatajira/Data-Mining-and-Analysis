{
 "cells": [
  {
   "cell_type": "markdown",
   "id": "493783e0-a7d9-4d43-aa4c-4dec0ef35c9d",
   "metadata": {},
   "source": [
    "# NLP: Text vectorization"
   ]
  },
  {
   "cell_type": "code",
   "execution_count": 42,
   "id": "3509a985-8cad-41e6-b508-f412f356c276",
   "metadata": {},
   "outputs": [],
   "source": [
    "from sklearn.feature_extraction.text import TfidfVectorizer\n",
    "from sklearn.metrics.pairwise import cosine_similarity"
   ]
  },
  {
   "cell_type": "code",
   "execution_count": 43,
   "id": "73624f4d-398b-4bd7-8476-acdde4d2e4af",
   "metadata": {},
   "outputs": [],
   "source": [
    "# Get vectors from text\n",
    "def get_vectors(*str):\n",
    "    text = [t for t in str]\n",
    "    tfidf_vectorizer = TfidfVectorizer()\n",
    "    tfidf_vectorizer.fit(text)\n",
    "\n",
    "    my_vector =  tfidf_vectorizer.fit_transform(text)\n",
    "    return my_vector\n",
    "\n",
    "def get_cosign_similarity(received_vectors):\n",
    "    return cosine_similarity(received_vectors)"
   ]
  },
  {
   "cell_type": "code",
   "execution_count": 44,
   "id": "2c8e787b-0d59-4b22-aa8b-cbb348dc98d2",
   "metadata": {},
   "outputs": [],
   "source": [
    "text1 = 'In the past John liked only sports but now he likes sports and politics'\n",
    "text2 = 'Sam only liked politics but he is not a fan of both music and international politics'\n",
    "text3 = 'Sarah likes both books and politics but in the past she oly read books'\n",
    "text4 = 'Robert loved booth books and nature but now he only read books'\n",
    "text5 = 'Linda liked music and sports but currently she likes both nature and music'\n",
    "text6 = 'Alison used to love nature'\n",
    "text7 = 'In the past I liked only sports but now I like spots and politics'"
   ]
  },
  {
   "cell_type": "code",
   "execution_count": 45,
   "id": "daa52eed-1d20-4f06-918f-ccca3d4cbdb7",
   "metadata": {},
   "outputs": [],
   "source": [
    "vectors = get_vectors(text1, text2, text3, text4, text5, text6, text7)\n",
    "#vectors"
   ]
  },
  {
   "cell_type": "code",
   "execution_count": 46,
   "id": "ac19fccb-1fb4-4b75-a204-0dcf7d336e8a",
   "metadata": {},
   "outputs": [
    {
     "data": {
      "text/plain": [
       "array([[1.        , 0.27736302, 0.33454765, 0.22452384, 0.31043311,\n",
       "        0.        , 0.67565998],\n",
       "       [0.27736302, 1.        , 0.17236767, 0.13941147, 0.30388341,\n",
       "        0.        , 0.24680949],\n",
       "       [0.33454765, 0.17236767, 1.        , 0.42689171, 0.25733467,\n",
       "        0.        , 0.30764416],\n",
       "       [0.22452384, 0.13941147, 0.42689171, 1.        , 0.13298311,\n",
       "        0.08003265, 0.1821408 ],\n",
       "       [0.31043311, 0.30388341, 0.25733467, 0.13298311, 1.        ,\n",
       "        0.07922366, 0.21079229],\n",
       "       [0.        , 0.        , 0.        , 0.08003265, 0.07922366,\n",
       "        1.        , 0.        ],\n",
       "       [0.67565998, 0.24680949, 0.30764416, 0.1821408 , 0.21079229,\n",
       "        0.        , 1.        ]])"
      ]
     },
     "execution_count": 46,
     "metadata": {},
     "output_type": "execute_result"
    }
   ],
   "source": [
    "cos_sim = get_cosign_similarity(vectors)\n",
    "cos_sim"
   ]
  },
  {
   "cell_type": "markdown",
   "id": "662ca772-9a5e-4347-af91-c0f1ef22a744",
   "metadata": {},
   "source": [
    "## Reduce dimensions to 2 for each text in similarity using PCA"
   ]
  },
  {
   "cell_type": "code",
   "execution_count": 58,
   "id": "11c0503e-a763-4367-becb-c198f8b03051",
   "metadata": {},
   "outputs": [],
   "source": [
    "from sklearn.decomposition import PCA"
   ]
  },
  {
   "cell_type": "code",
   "execution_count": 59,
   "id": "eefb1a77-b1c6-4ac2-a06b-78171c51b410",
   "metadata": {},
   "outputs": [
    {
     "name": "stdout",
     "output_type": "stream",
     "text": [
      "[[-0.54577568 -0.14252236]\n",
      " [-0.04273938 -0.41654269]\n",
      " [-0.16041106  0.52046692]\n",
      " [ 0.15216525  0.67542236]\n",
      " [ 0.03578942 -0.32964585]\n",
      " [ 1.08233152 -0.16413872]\n",
      " [-0.52136006 -0.14303966]]\n"
     ]
    }
   ],
   "source": [
    "pca = PCA(n_components = 2)\n",
    "cos_sim_pca =  pca.fit_transform(cos_sim)\n",
    "print(cos_sim_pca)"
   ]
  },
  {
   "cell_type": "code",
   "execution_count": 60,
   "id": "b72b8beb-f228-4d37-adb8-0a2d65ada56f",
   "metadata": {},
   "outputs": [
    {
     "data": {
      "image/png": "[encoded data removed]",
      "text/plain": [
       "<Figure size 720x504 with 1 Axes>"
      ]
     },
     "metadata": {
      "needs_background": "light"
     },
     "output_type": "display_data"
    }
   ],
   "source": [
    "import matplotlib.pyplot as plt\n",
    "plt.rcParams['figure.figsize'] = (10,7)\n",
    "n = cos_sim_pca.shape[0]\n",
    "for i in range(n):\n",
    "    x = cos_sim_pca[i, 0]\n",
    "    y = cos_sim_pca[i, 1]\n",
    "    label = f'text-{i}'\n",
    "    plt.scatter(x, y, s = 400)\n",
    "    plt.text(x + 0.03, y + 0.03, label)\n",
    "plt.show()"
   ]
  },
  {
   "cell_type": "markdown",
   "id": "58dd9722-d40d-4f5a-b123-d07084b6c60c",
   "metadata": {},
   "source": [
    "## Clustering"
   ]
  },
  {
   "cell_type": "code",
   "execution_count": 73,
   "id": "4a3d60b4-984c-4dbe-b9ae-2a349067e8ea",
   "metadata": {},
   "outputs": [
    {
     "name": "stdout",
     "output_type": "stream",
     "text": [
      "[[-0.26852143 -0.25793764]\n",
      " [ 1.08233152 -0.16413872]\n",
      " [-0.00412291  0.59794464]]\n",
      "[0 0 2 2 0 1 0]\n"
     ]
    }
   ],
   "source": [
    "from sklearn.cluster import KMeans\n",
    "kmeans = KMeans(n_clusters = 3)\n",
    "X_new = cos_sim_pca\n",
    "\n",
    "kmeans.fit(X_new)\n",
    "print(kmeans.cluster_centers_)\n",
    "print(kmeans.labels_)"
   ]
  },
  {
   "cell_type": "code",
   "execution_count": 75,
   "id": "70e94b40-05b8-4868-a0c0-96d545e6e716",
   "metadata": {},
   "outputs": [
    {
     "data": {
      "image/png": "[encoded data removed]",
      "text/plain": [
       "<Figure size 720x504 with 1 Axes>"
      ]
     },
     "metadata": {
      "needs_background": "light"
     },
     "output_type": "display_data"
    }
   ],
   "source": [
    "fig, ax = plt.subplots()\n",
    "ax.scatter(X_new[:,0], X_new[:,1], c=kmeans.labels_, s=400)\n",
    "ax.scatter(kmeans.cluster_centers_[:,0], kmeans.cluster_centers_[:,1], marker = '*', s=400, c='r')\n",
    "\n",
    "#for i, txt in enumerate(labels):\n",
    "#    x = X_new[:,0]\n",
    "#    y = X_new[:,1]\n",
    "#    ax.annotate(txt, (x,y))\n",
    "plt.show()"
   ]
  },
  {
   "cell_type": "code",
   "execution_count": null,
   "id": "94039177-b0d2-46d1-8c2f-dfddb4995d26",
   "metadata": {},
   "outputs": [],
   "source": []
  }
 ],
 "metadata": {
  "kernelspec": {
   "display_name": "Python 3",
   "language": "python",
   "name": "python3"
  },
  "language_info": {
   "codemirror_mode": {
    "name": "ipython",
    "version": 3
   },
   "file_extension": ".py",
   "mimetype": "text/x-python",
   "name": "python",
   "nbconvert_exporter": "python",
   "pygments_lexer": "ipython3",
   "version": "3.8.10"
  }
 },
 "nbformat": 4,
 "nbformat_minor": 5
}
