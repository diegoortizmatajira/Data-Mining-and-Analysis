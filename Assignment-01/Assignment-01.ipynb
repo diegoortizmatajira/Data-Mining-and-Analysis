{
 "cells": [
  {
   "cell_type": "code",
   "execution_count": 58,
   "id": "c3e2ada2-8a2c-4f46-9b1f-2c531d3ab3a8",
   "metadata": {},
   "outputs": [],
   "source": [
    "import requests\n",
    "import os\n",
    "import json\n",
    "import pandas as pd\n",
    "import datetime\n",
    "\n",
    "# To set your environment variables in your terminal run the following line:\n",
    "# export 'BEARER_TOKEN'='<your_bearer_token>'\n",
    "# bearer_token = os.environ.get(\"BEARER_TOKEN\")\n",
    "bearer_token ='AAAAAAAAAAAAAAAAAAAAACqHUgEAAAAAcghJSkKBmFmw36ZiRxrqVdyomIk%3DZlDqMjNA0ka4btIuhDjiHUyRGoCHDzKBWvNGcqYXpLJ5kuhUAp'"
   ]
  },
  {
   "cell_type": "code",
   "execution_count": 59,
   "id": "051c1fe9-5389-481b-a863-d2888bfd753e",
   "metadata": {},
   "outputs": [],
   "source": [
    "def bearer_oauth(r):\n",
    "    \"\"\"\n",
    "    Method required by bearer token authentication.\n",
    "    \"\"\"\n",
    "\n",
    "    r.headers[\"Authorization\"] = f\"Bearer {bearer_token}\"\n",
    "    r.headers[\"User-Agent\"] = \"v2RecentSearchPython\"\n",
    "    return r\n",
    "\n",
    "def connect_to_endpoint(url, params):\n",
    "    response = requests.get(url, auth=bearer_oauth, params=params)\n",
    "    print(response.status_code)\n",
    "    if response.status_code != 200:\n",
    "        raise Exception(response.status_code, response.text)\n",
    "    return response.json()"
   ]
  },
  {
   "cell_type": "code",
   "execution_count": 80,
   "id": "a27597db-4080-41c2-827c-45eeb87807b5",
   "metadata": {},
   "outputs": [],
   "source": [
    "def dataframe_from_tweets(keyword, from_date, to_date):\n",
    "    search_url = \"https://api.twitter.com/2/tweets/search/recent\"\n",
    "    query_params = {\n",
    "        'query': keyword, \n",
    "        'start_time': from_date.isoformat(\"T\") + \"Z\", \n",
    "        'end_time': to_date.isoformat(\"T\") + \"Z\",\n",
    "        'tweet.fields': 'author_id,created_at,geo', \n",
    "        'max_results': 20}\n",
    "    print(query_params)\n",
    "    json_response = connect_to_endpoint(search_url, query_params)\n",
    "    df = pd.DataFrame(json_response['data']) \n",
    "    # df = pd.DataFrame([[1, 2], [3, 4]], columns=list('AB'), index=['x', 'y'])\n",
    "    df['Keyword'] = keyword\n",
    "    return df\n",
    "    "
   ]
  },
  {
   "cell_type": "code",
   "execution_count": 81,
   "id": "e9902fcc-0204-402a-90ca-24a50150bfc8",
   "metadata": {},
   "outputs": [],
   "source": [
    "class PlanItem:\n",
    "    def __init__(self, year, month, day):\n",
    "        self.from_date = datetime.datetime(year, month, day)\n",
    "        self.to_date = self.from_date + datetime.timedelta(days=15)\n",
    "    def file_name(self):\n",
    "        return self.from_date.strftime('tweets_%Y%m%d.json')"
   ]
  },
  {
   "cell_type": "code",
   "execution_count": 82,
   "id": "16557d43-ba61-464d-b99c-ff08a6a05e98",
   "metadata": {},
   "outputs": [],
   "source": [
    "plan = [\n",
    "    PlanItem(2021,6,1),\n",
    "    PlanItem(2021,6,15),\n",
    "    PlanItem(2021,7,1),\n",
    "    PlanItem(2021,7,15),\n",
    "    PlanItem(2021,8,1),\n",
    "    PlanItem(2021,8,15),\n",
    "    PlanItem(2021,9,1),\n",
    "    PlanItem(2021,9,15),\n",
    "    PlanItem(2021,10,1),\n",
    "    PlanItem(2021,10,15),\n",
    "]\n",
    "keywords = ['altcoin', 'bitcoin', 'coindesk', 'cryptocurrency', 'gold', 'APPL', 'GOOG', 'YHOO']"
   ]
  },
  {
   "cell_type": "code",
   "execution_count": 83,
   "id": "34741a23-ac14-4f26-9977-9211cb01aa91",
   "metadata": {},
   "outputs": [
    {
     "name": "stdout",
     "output_type": "stream",
     "text": [
      "{'query': 'altcoin', 'start_time': '2021-06-01T00:00:00Z', 'end_time': '2021-06-16T00:00:00Z', 'tweet.fields': 'author_id,created_at,geo', 'max_results': 20}\n",
      "400\n"
     ]
    },
    {
     "ename": "Exception",
     "evalue": "(400, '{\"errors\":[{\"parameters\":{\"start_time\":[\"2021-06-01T00:00Z\"]},\"message\":\"Invalid \\'start_time\\':\\'2021-06-01T00:00Z\\'. \\'start_time\\' must be on or after 2021-10-13T02:29Z\"},{\"parameters\":{\"end_time\":[\"2021-06-16T00:00Z\"]},\"message\":\"Invalid \\'end_time\\':\\'2021-06-16T00:00Z\\'. \\'end_time\\' must be on or after 2021-10-13T02:29Z\"}],\"title\":\"Invalid Request\",\"detail\":\"One or more parameters to your request was invalid.\",\"type\":\"https://api.twitter.com/2/problems/invalid-request\"}')",
     "output_type": "error",
     "traceback": [
      "\u001b[1;31m---------------------------------------------------------------------------\u001b[0m",
      "\u001b[1;31mException\u001b[0m                                 Traceback (most recent call last)",
      "\u001b[1;32m<ipython-input-83-798906b11b4d>\u001b[0m in \u001b[0;36m<module>\u001b[1;34m\u001b[0m\n\u001b[0;32m      2\u001b[0m     \u001b[0mitem_df\u001b[0m \u001b[1;33m=\u001b[0m \u001b[0mpd\u001b[0m\u001b[1;33m.\u001b[0m\u001b[0mDataFrame\u001b[0m\u001b[1;33m(\u001b[0m\u001b[1;33m)\u001b[0m\u001b[1;33m\u001b[0m\u001b[1;33m\u001b[0m\u001b[0m\n\u001b[0;32m      3\u001b[0m     \u001b[1;32mfor\u001b[0m \u001b[0mkeyword\u001b[0m \u001b[1;32min\u001b[0m \u001b[0mkeywords\u001b[0m\u001b[1;33m:\u001b[0m\u001b[1;33m\u001b[0m\u001b[1;33m\u001b[0m\u001b[0m\n\u001b[1;32m----> 4\u001b[1;33m         \u001b[0mkeyword_df\u001b[0m \u001b[1;33m=\u001b[0m \u001b[0mdataframe_from_tweets\u001b[0m\u001b[1;33m(\u001b[0m\u001b[0mkeyword\u001b[0m\u001b[1;33m,\u001b[0m \u001b[0mitem\u001b[0m\u001b[1;33m.\u001b[0m\u001b[0mfrom_date\u001b[0m\u001b[1;33m,\u001b[0m \u001b[0mitem\u001b[0m\u001b[1;33m.\u001b[0m\u001b[0mto_date\u001b[0m\u001b[1;33m)\u001b[0m\u001b[1;33m\u001b[0m\u001b[1;33m\u001b[0m\u001b[0m\n\u001b[0m\u001b[0;32m      5\u001b[0m         \u001b[0mitem_df\u001b[0m \u001b[1;33m=\u001b[0m \u001b[0mitem_df\u001b[0m\u001b[1;33m.\u001b[0m\u001b[0mappend\u001b[0m\u001b[1;33m(\u001b[0m\u001b[0mkeyword_df\u001b[0m\u001b[1;33m,\u001b[0m \u001b[0mignore_index\u001b[0m\u001b[1;33m=\u001b[0m\u001b[1;32mTrue\u001b[0m\u001b[1;33m)\u001b[0m\u001b[1;33m\u001b[0m\u001b[1;33m\u001b[0m\u001b[0m\n\u001b[0;32m      6\u001b[0m     \u001b[0mprint\u001b[0m\u001b[1;33m(\u001b[0m\u001b[1;34mf'Saving {item.file_name()}'\u001b[0m\u001b[1;33m)\u001b[0m\u001b[1;33m\u001b[0m\u001b[1;33m\u001b[0m\u001b[0m\n",
      "\u001b[1;32m<ipython-input-80-be66ff42d90f>\u001b[0m in \u001b[0;36mdataframe_from_tweets\u001b[1;34m(keyword, from_date, to_date)\u001b[0m\n\u001b[0;32m      8\u001b[0m         'max_results': 20}\n\u001b[0;32m      9\u001b[0m     \u001b[0mprint\u001b[0m\u001b[1;33m(\u001b[0m\u001b[0mquery_params\u001b[0m\u001b[1;33m)\u001b[0m\u001b[1;33m\u001b[0m\u001b[1;33m\u001b[0m\u001b[0m\n\u001b[1;32m---> 10\u001b[1;33m     \u001b[0mjson_response\u001b[0m \u001b[1;33m=\u001b[0m \u001b[0mconnect_to_endpoint\u001b[0m\u001b[1;33m(\u001b[0m\u001b[0msearch_url\u001b[0m\u001b[1;33m,\u001b[0m \u001b[0mquery_params\u001b[0m\u001b[1;33m)\u001b[0m\u001b[1;33m\u001b[0m\u001b[1;33m\u001b[0m\u001b[0m\n\u001b[0m\u001b[0;32m     11\u001b[0m     \u001b[0mdf\u001b[0m \u001b[1;33m=\u001b[0m \u001b[0mpd\u001b[0m\u001b[1;33m.\u001b[0m\u001b[0mDataFrame\u001b[0m\u001b[1;33m(\u001b[0m\u001b[0mjson_response\u001b[0m\u001b[1;33m[\u001b[0m\u001b[1;34m'data'\u001b[0m\u001b[1;33m]\u001b[0m\u001b[1;33m)\u001b[0m\u001b[1;33m\u001b[0m\u001b[1;33m\u001b[0m\u001b[0m\n\u001b[0;32m     12\u001b[0m     \u001b[1;31m# df = pd.DataFrame([[1, 2], [3, 4]], columns=list('AB'), index=['x', 'y'])\u001b[0m\u001b[1;33m\u001b[0m\u001b[1;33m\u001b[0m\u001b[1;33m\u001b[0m\u001b[0m\n",
      "\u001b[1;32m<ipython-input-59-6ae2b835d6e9>\u001b[0m in \u001b[0;36mconnect_to_endpoint\u001b[1;34m(url, params)\u001b[0m\n\u001b[0;32m     12\u001b[0m     \u001b[0mprint\u001b[0m\u001b[1;33m(\u001b[0m\u001b[0mresponse\u001b[0m\u001b[1;33m.\u001b[0m\u001b[0mstatus_code\u001b[0m\u001b[1;33m)\u001b[0m\u001b[1;33m\u001b[0m\u001b[1;33m\u001b[0m\u001b[0m\n\u001b[0;32m     13\u001b[0m     \u001b[1;32mif\u001b[0m \u001b[0mresponse\u001b[0m\u001b[1;33m.\u001b[0m\u001b[0mstatus_code\u001b[0m \u001b[1;33m!=\u001b[0m \u001b[1;36m200\u001b[0m\u001b[1;33m:\u001b[0m\u001b[1;33m\u001b[0m\u001b[1;33m\u001b[0m\u001b[0m\n\u001b[1;32m---> 14\u001b[1;33m         \u001b[1;32mraise\u001b[0m \u001b[0mException\u001b[0m\u001b[1;33m(\u001b[0m\u001b[0mresponse\u001b[0m\u001b[1;33m.\u001b[0m\u001b[0mstatus_code\u001b[0m\u001b[1;33m,\u001b[0m \u001b[0mresponse\u001b[0m\u001b[1;33m.\u001b[0m\u001b[0mtext\u001b[0m\u001b[1;33m)\u001b[0m\u001b[1;33m\u001b[0m\u001b[1;33m\u001b[0m\u001b[0m\n\u001b[0m\u001b[0;32m     15\u001b[0m     \u001b[1;32mreturn\u001b[0m \u001b[0mresponse\u001b[0m\u001b[1;33m.\u001b[0m\u001b[0mjson\u001b[0m\u001b[1;33m(\u001b[0m\u001b[1;33m)\u001b[0m\u001b[1;33m\u001b[0m\u001b[1;33m\u001b[0m\u001b[0m\n",
      "\u001b[1;31mException\u001b[0m: (400, '{\"errors\":[{\"parameters\":{\"start_time\":[\"2021-06-01T00:00Z\"]},\"message\":\"Invalid \\'start_time\\':\\'2021-06-01T00:00Z\\'. \\'start_time\\' must be on or after 2021-10-13T02:29Z\"},{\"parameters\":{\"end_time\":[\"2021-06-16T00:00Z\"]},\"message\":\"Invalid \\'end_time\\':\\'2021-06-16T00:00Z\\'. \\'end_time\\' must be on or after 2021-10-13T02:29Z\"}],\"title\":\"Invalid Request\",\"detail\":\"One or more parameters to your request was invalid.\",\"type\":\"https://api.twitter.com/2/problems/invalid-request\"}')"
     ]
    }
   ],
   "source": [
    "for item in plan:\n",
    "    item_df = pd.DataFrame()\n",
    "    for keyword in keywords:\n",
    "        keyword_df = dataframe_from_tweets(keyword, item.from_date, item.to_date)\n",
    "        item_df = item_df.append(keyword_df, ignore_index=True)\n",
    "    print(f'Saving {item.file_name()}')\n",
    "    item_df.to_json(f'data/{item.file_name()}')\n",
    "        "
   ]
  },
  {
   "cell_type": "code",
   "execution_count": null,
   "id": "a3a9015b-1daa-4a3c-86ee-db29897957ac",
   "metadata": {},
   "outputs": [],
   "source": [
    " "
   ]
  }
 ],
 "metadata": {
  "kernelspec": {
   "display_name": "Python 3",
   "language": "python",
   "name": "python3"
  },
  "language_info": {
   "codemirror_mode": {
    "name": "ipython",
    "version": 3
   },
   "file_extension": ".py",
   "mimetype": "text/x-python",
   "name": "python",
   "nbconvert_exporter": "python",
   "pygments_lexer": "ipython3",
   "version": "3.8.10"
  }
 },
 "nbformat": 4,
 "nbformat_minor": 5
}
